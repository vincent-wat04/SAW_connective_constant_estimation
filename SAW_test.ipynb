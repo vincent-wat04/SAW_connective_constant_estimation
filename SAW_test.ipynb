{
 "cells": [
  {
   "cell_type": "code",
   "execution_count": null,
   "metadata": {},
   "outputs": [],
   "source": [
    "import matplotlib.pyplot as plt\n",
    "from deterministic_cL import count_SAW\n",
    "from naive_monte_carlo import NaiveMonteCarlo\n",
    "\n",
    "max_L = 20\n",
    "\n",
    "# Compute deterministic c_L.\n",
    "deterministic_counts = {}\n",
    "for L in range(1, max_L+1):\n",
    "    deterministic_counts[L] = count_SAW(L)\n",
    "\n",
    "L_values = list(deterministic_counts.keys())\n",
    "det_counts = [deterministic_counts[L] for L in L_values]\n",
    "\n",
    "# Use Naive Monte Carlo method to estimate c_L.\n",
    "mc1_estimates = []\n",
    "for L in L_values:\n",
    "    est, succ_ratio = monte_carlo_I(L, trials=10000)\n",
    "    mc1_estimates.append(est)\n",
    "    print(f\"Monte Carlo I: L = {L}, estimated c_L = {est:.2f}, success ratio = {succ_ratio:.4f}\")\n",
    "\n",
    "# Use Monte Carlo II (Rosenbluth) to estimate c_L for L=1 to 10.\n",
    "mc2_estimates = []\n",
    "for L in L_values:\n",
    "    est, succ_ratio = monte_carlo_II(L, trials=10000)\n",
    "    mc2_estimates.append(est)\n",
    "    print(f\"Monte Carlo II: L = {L}, estimated c_L = {est:.2f}, success ratio = {succ_ratio:.4f}\")\n",
    "\n",
    "# Plotting deterministic vs. Monte Carlo II estimates.\n",
    "plt.figure(figsize=(8, 5))\n",
    "plt.plot(L_values, det_counts, 'o-', label='Deterministic c_L')\n",
    "plt.plot(L_values, mc2_estimates, 's--', label='Monte Carlo II estimated c_L')\n",
    "plt.xlabel('Length L')\n",
    "plt.ylabel('Number of SAWs (c_L)')\n",
    "plt.title('Comparison of Deterministic and Monte Carlo II Estimates')\n",
    "plt.legend()\n",
    "plt.grid(True)\n",
    "plt.show()\n"
   ]
  }
 ],
 "metadata": {
  "kernelspec": {
   "display_name": "base",
   "language": "python",
   "name": "python3"
  },
  "language_info": {
   "name": "python",
   "version": "3.9.13"
  },
  "orig_nbformat": 4
 },
 "nbformat": 4,
 "nbformat_minor": 2
}
